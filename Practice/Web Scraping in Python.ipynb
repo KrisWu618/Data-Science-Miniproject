{
 "cells": [
  {
   "cell_type": "markdown",
   "metadata": {},
   "source": [
    "## Movie Titles\n",
    "### write an HTTP GET method to retrieve titles from a movie database, store all the titles and sort titles in ascending order."
   ]
  },
  {
   "cell_type": "code",
   "execution_count": 25,
   "metadata": {
    "collapsed": true
   },
   "outputs": [],
   "source": [
    "import sys\n",
    "import os\n",
    "from urllib.request import Request\n",
    "from urllib.request import urlopen\n",
    "from urllib.error import URLError\n",
    "from bs4 import BeautifulSoup\n",
    "import json"
   ]
  },
  {
   "cell_type": "code",
   "execution_count": 20,
   "metadata": {
    "collapsed": true
   },
   "outputs": [],
   "source": [
    "def getMovieTitles(substr):\n",
    "    url = 'https://movies/search?Title='+str(substr)\n",
    "    page = urlopen(url)\n",
    "    request = Request(url)\n",
    "    response = urlopen(request)\n",
    "    #html = response.read()\n",
    "    data = json.loads(response.read().decode())\n",
    "    dat = data.get('data')\n",
    "    titles = []\n",
    "    for row in dat:\n",
    "        titles.append(row.get('Title'))\n",
    "    titles.sort() \n",
    "    return titles"
   ]
  },
  {
   "cell_type": "code",
   "execution_count": 21,
   "metadata": {},
   "outputs": [],
   "source": [
    "title = getMovieTitles('spiderman')"
   ]
  },
  {
   "cell_type": "code",
   "execution_count": 22,
   "metadata": {},
   "outputs": [
    {
     "data": {
      "text/plain": [
       "['Amazing Spiderman Syndrome',\n",
       " 'Fighting, Flying and Driving: The Stunts of Spiderman 3',\n",
       " \"Hollywood's Master Storytellers: Spiderman Live\",\n",
       " 'Italian Spiderman',\n",
       " 'Spiderman',\n",
       " 'Spiderman',\n",
       " 'Spiderman 5',\n",
       " 'Spiderman and Grandma',\n",
       " 'Superman, Spiderman or Batman',\n",
       " 'The Amazing Spiderman T4 Premiere Special']"
      ]
     },
     "execution_count": 22,
     "metadata": {},
     "output_type": "execute_result"
    }
   ],
   "source": [
    "title"
   ]
  },
  {
   "cell_type": "markdown",
   "metadata": {},
   "source": [
    "## Breakdown the code step by step"
   ]
  },
  {
   "cell_type": "code",
   "execution_count": 14,
   "metadata": {
    "collapsed": true
   },
   "outputs": [],
   "source": [
    "url = 'https://movies/search?Title=spiderman'\n",
    "page = urlopen(url)\n",
    "request = Request(url)\n",
    "response = urlopen(request)\n",
    "data = json.loads(response.read().decode())"
   ]
  },
  {
   "cell_type": "code",
   "execution_count": 23,
   "metadata": {},
   "outputs": [
    {
     "data": {
      "text/plain": [
       "{'data': [{'Poster': 'https://images-na.ssl-images-amazon.com/images/M/MV5BYjFhN2RjZTctMzA2Ni00NzE2LWJmYjMtNDAyYTllOTkyMmY3XkEyXkFqcGdeQXVyNTA0OTU0OTQ@._V1_SX300.jpg',\n",
       "   'Title': 'Italian Spiderman',\n",
       "   'Type': 'movie',\n",
       "   'Year': 2007,\n",
       "   'imdbID': 'tt2705436'},\n",
       "  {'Poster': 'https://images-na.ssl-images-amazon.com/images/M/MV5BMjQ4MzcxNDU3N15BMl5BanBnXkFtZTgwOTE1MzMxNzE@._V1_SX300.jpg',\n",
       "   'Title': 'Superman, Spiderman or Batman',\n",
       "   'Type': 'movie',\n",
       "   'Year': 2011,\n",
       "   'imdbID': 'tt2084949'},\n",
       "  {'Poster': 'N/A',\n",
       "   'Title': 'Spiderman',\n",
       "   'Type': 'movie',\n",
       "   'Year': 1990,\n",
       "   'imdbID': 'tt0100669'},\n",
       "  {'Poster': 'N/A',\n",
       "   'Title': 'Spiderman',\n",
       "   'Type': 'movie',\n",
       "   'Year': 2010,\n",
       "   'imdbID': 'tt1785572'},\n",
       "  {'Poster': 'N/A',\n",
       "   'Title': 'Fighting, Flying and Driving: The Stunts of Spiderman 3',\n",
       "   'Type': 'movie',\n",
       "   'Year': 2007,\n",
       "   'imdbID': 'tt1132238'},\n",
       "  {'Poster': 'http://ia.media-imdb.com/images/M/MV5BMjE3Mzg0MjAxMl5BMl5BanBnXkFtZTcwNjIyODg5Mg@@._V1_SX300.jpg',\n",
       "   'Title': 'Spiderman and Grandma',\n",
       "   'Type': 'movie',\n",
       "   'Year': 2009,\n",
       "   'imdbID': 'tt1433184'},\n",
       "  {'Poster': 'N/A',\n",
       "   'Title': 'The Amazing Spiderman T4 Premiere Special',\n",
       "   'Type': 'movie',\n",
       "   'Year': 2012,\n",
       "   'imdbID': 'tt2233044'},\n",
       "  {'Poster': 'N/A',\n",
       "   'Title': 'Amazing Spiderman Syndrome',\n",
       "   'Type': 'movie',\n",
       "   'Year': 2012,\n",
       "   'imdbID': 'tt2586634'},\n",
       "  {'Poster': 'N/A',\n",
       "   'Title': \"Hollywood's Master Storytellers: Spiderman Live\",\n",
       "   'Type': 'movie',\n",
       "   'Year': 2006,\n",
       "   'imdbID': 'tt2158533'},\n",
       "  {'Poster': 'N/A',\n",
       "   'Title': 'Spiderman 5',\n",
       "   'Type': 'movie',\n",
       "   'Year': 2008,\n",
       "   'imdbID': 'tt3696826'}],\n",
       " 'page': 1,\n",
       " 'per_page': 10,\n",
       " 'total': 13,\n",
       " 'total_pages': 2}"
      ]
     },
     "execution_count": 23,
     "metadata": {},
     "output_type": "execute_result"
    }
   ],
   "source": [
    "data"
   ]
  },
  {
   "cell_type": "code",
   "execution_count": 16,
   "metadata": {},
   "outputs": [],
   "source": [
    "# get 'data' from dictionary data\n",
    "dat = data.get('data')"
   ]
  },
  {
   "cell_type": "code",
   "execution_count": 24,
   "metadata": {},
   "outputs": [
    {
     "data": {
      "text/plain": [
       "[{'Poster': 'https://images-na.ssl-images-amazon.com/images/M/MV5BYjFhN2RjZTctMzA2Ni00NzE2LWJmYjMtNDAyYTllOTkyMmY3XkEyXkFqcGdeQXVyNTA0OTU0OTQ@._V1_SX300.jpg',\n",
       "  'Title': 'Italian Spiderman',\n",
       "  'Type': 'movie',\n",
       "  'Year': 2007,\n",
       "  'imdbID': 'tt2705436'},\n",
       " {'Poster': 'https://images-na.ssl-images-amazon.com/images/M/MV5BMjQ4MzcxNDU3N15BMl5BanBnXkFtZTgwOTE1MzMxNzE@._V1_SX300.jpg',\n",
       "  'Title': 'Superman, Spiderman or Batman',\n",
       "  'Type': 'movie',\n",
       "  'Year': 2011,\n",
       "  'imdbID': 'tt2084949'},\n",
       " {'Poster': 'N/A',\n",
       "  'Title': 'Spiderman',\n",
       "  'Type': 'movie',\n",
       "  'Year': 1990,\n",
       "  'imdbID': 'tt0100669'},\n",
       " {'Poster': 'N/A',\n",
       "  'Title': 'Spiderman',\n",
       "  'Type': 'movie',\n",
       "  'Year': 2010,\n",
       "  'imdbID': 'tt1785572'},\n",
       " {'Poster': 'N/A',\n",
       "  'Title': 'Fighting, Flying and Driving: The Stunts of Spiderman 3',\n",
       "  'Type': 'movie',\n",
       "  'Year': 2007,\n",
       "  'imdbID': 'tt1132238'},\n",
       " {'Poster': 'http://ia.media-imdb.com/images/M/MV5BMjE3Mzg0MjAxMl5BMl5BanBnXkFtZTcwNjIyODg5Mg@@._V1_SX300.jpg',\n",
       "  'Title': 'Spiderman and Grandma',\n",
       "  'Type': 'movie',\n",
       "  'Year': 2009,\n",
       "  'imdbID': 'tt1433184'},\n",
       " {'Poster': 'N/A',\n",
       "  'Title': 'The Amazing Spiderman T4 Premiere Special',\n",
       "  'Type': 'movie',\n",
       "  'Year': 2012,\n",
       "  'imdbID': 'tt2233044'},\n",
       " {'Poster': 'N/A',\n",
       "  'Title': 'Amazing Spiderman Syndrome',\n",
       "  'Type': 'movie',\n",
       "  'Year': 2012,\n",
       "  'imdbID': 'tt2586634'},\n",
       " {'Poster': 'N/A',\n",
       "  'Title': \"Hollywood's Master Storytellers: Spiderman Live\",\n",
       "  'Type': 'movie',\n",
       "  'Year': 2006,\n",
       "  'imdbID': 'tt2158533'},\n",
       " {'Poster': 'N/A',\n",
       "  'Title': 'Spiderman 5',\n",
       "  'Type': 'movie',\n",
       "  'Year': 2008,\n",
       "  'imdbID': 'tt3696826'}]"
      ]
     },
     "execution_count": 24,
     "metadata": {},
     "output_type": "execute_result"
    }
   ],
   "source": [
    "dat"
   ]
  },
  {
   "cell_type": "code",
   "execution_count": 17,
   "metadata": {
    "collapsed": true
   },
   "outputs": [],
   "source": [
    "# extract 'Title' from dic, and saved in a list\n",
    "titles = []\n",
    "for row in dat:\n",
    "    titles.append(row.get('Title'))"
   ]
  },
  {
   "cell_type": "code",
   "execution_count": 18,
   "metadata": {
    "collapsed": true
   },
   "outputs": [],
   "source": [
    "# sort by alphbet\n",
    "titles.sort()"
   ]
  },
  {
   "cell_type": "code",
   "execution_count": 19,
   "metadata": {},
   "outputs": [
    {
     "data": {
      "text/plain": [
       "['Amazing Spiderman Syndrome',\n",
       " 'Fighting, Flying and Driving: The Stunts of Spiderman 3',\n",
       " \"Hollywood's Master Storytellers: Spiderman Live\",\n",
       " 'Italian Spiderman',\n",
       " 'Spiderman',\n",
       " 'Spiderman',\n",
       " 'Spiderman 5',\n",
       " 'Spiderman and Grandma',\n",
       " 'Superman, Spiderman or Batman',\n",
       " 'The Amazing Spiderman T4 Premiere Special']"
      ]
     },
     "execution_count": 19,
     "metadata": {},
     "output_type": "execute_result"
    }
   ],
   "source": [
    "titles"
   ]
  },
  {
   "cell_type": "code",
   "execution_count": null,
   "metadata": {
    "collapsed": true
   },
   "outputs": [],
   "source": []
  }
 ],
 "metadata": {
  "kernelspec": {
   "display_name": "Python 3",
   "language": "python",
   "name": "python3"
  },
  "language_info": {
   "codemirror_mode": {
    "name": "ipython",
    "version": 3
   },
   "file_extension": ".py",
   "mimetype": "text/x-python",
   "name": "python",
   "nbconvert_exporter": "python",
   "pygments_lexer": "ipython3",
   "version": "3.6.1"
  }
 },
 "nbformat": 4,
 "nbformat_minor": 2
}
